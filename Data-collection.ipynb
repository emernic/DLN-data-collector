{
 "cells": [
  {
   "cell_type": "code",
   "execution_count": 12,
   "metadata": {},
   "outputs": [],
   "source": [
    "from pydent import AqSession, models, ModelBase\n",
    "import pprint"
   ]
  },
  {
   "cell_type": "code",
   "execution_count": 9,
   "metadata": {},
   "outputs": [],
   "source": [
    "#Import data analysis tools...\n",
    "\n",
    "# Plot things in the notebook, instead of on a separate window.\n",
    "%matplotlib inline\n",
    "\n",
    "import numpy as np # imports a fast numerical programming library\n",
    "import scipy as sp #imports stats functions, amongst other things\n",
    "import matplotlib as mpl # this actually imports matplotlib\n",
    "import matplotlib.cm as cm #allows us easy access to colormaps\n",
    "import matplotlib.pyplot as plt #sets up plotting under plt\n",
    "import pandas as pd #lets us handle data as dataframes\n",
    "#sets up pandas table display\n",
    "pd.set_option('display.width', 500)\n",
    "pd.set_option('display.max_columns', 100)\n",
    "pd.set_option('display.notebook_repr_html', True)\n",
    "import seaborn as sns #sets up styles and gives us more plotting options"
   ]
  },
  {
   "cell_type": "code",
   "execution_count": 20,
   "metadata": {},
   "outputs": [],
   "source": [
    "s = AqSession(\"Nick\", \"25Me4qvvvv\", \"http://54.190.2.203\")\n",
    "s.set_timeout(60)"
   ]
  },
  {
   "cell_type": "code",
   "execution_count": 21,
   "metadata": {},
   "outputs": [],
   "source": [
    "# #Collect data on ops from plans submitted by users with these usernames\n",
    "# COLLECT_USERS = [\"Nick (Real User)\"]\n",
    "\n",
    "# #Collect data on operation types with these names\n",
    "# COLLECT_OPERATION_TYPES = [\"Check Plate\", \"Purify Gel Slice\", \"Make Miniprep\", \"Purify DNA from Reaction\", \"Upload Sequencing Results\"]\n",
    "\n",
    "# #Specifies data associations to collect for output items.\n",
    "# #Example:\n",
    "# # COLLECT_OUTPUT_ITEM_DATA = {\n",
    "#     #\"Operation name\": {\n",
    "#         #\"An output name\": [\"data association name\", \"another data association name\"]\n",
    "#         #},\n",
    "#     #\"Another operation name\": {\n",
    "#         # \"An output name\": [\"data association name\", \"another data association name\"]\n",
    "#     #}\n",
    "# #}\n",
    "# COLLECT_OUTPUT_ITEM_DATA = {\n",
    "#     \"Check Plate\": {\n",
    "#         \"Plate\": [\"white_colonies\", \"blue_colonies\", \"red_colonies\"]\n",
    "#     },\n",
    "#     \"Purify Gel Slice\": {\n",
    "#         \"Fragment\": [\"concentration\", \"volume\", \"A260280\", \"A260230\"]\n",
    "#     },\n",
    "#     \"Make Miniprep\": {\n",
    "#         \"Plasmid\": [\"concentration\", \"volume\", \"A260280\", \"A260230\"]\n",
    "#     },\n",
    "#     \"Purify DNA from Reaction\": {\n",
    "#         \"Purified DNA\": [\"concentration\", \"volume\", \"A260280\", \"A260230\"]\n",
    "#     },\n",
    "#     \"Upload Sequencing Results\": {\n",
    "#         \"Plasmid\": [\"sequence_ok\", \"delete_requested\"]\n",
    "#     }\n",
    "# }\n"
   ]
  },
  {
   "cell_type": "code",
   "execution_count": 45,
   "metadata": {},
   "outputs": [
    {
     "name": "stdout",
     "output_type": "stream",
     "text": [
      "Check Plate\n"
     ]
    },
    {
     "ename": "AttributeError",
     "evalue": "'str' object has no attribute 'astype'",
     "output_type": "error",
     "traceback": [
      "\u001b[0;31m---------------------------------------------------------------------------\u001b[0m",
      "\u001b[0;31mAttributeError\u001b[0m                            Traceback (most recent call last)",
      "\u001b[0;32m<ipython-input-45-69c7fddfc0bf>\u001b[0m in \u001b[0;36m<module>\u001b[0;34m()\u001b[0m\n\u001b[1;32m     44\u001b[0m             \u001b[0mop_data\u001b[0m\u001b[0;34m[\u001b[0m\u001b[0;34m\"id\"\u001b[0m\u001b[0;34m]\u001b[0m\u001b[0;34m.\u001b[0m\u001b[0mappend\u001b[0m\u001b[0;34m(\u001b[0m\u001b[0mop\u001b[0m\u001b[0;34m.\u001b[0m\u001b[0mid\u001b[0m\u001b[0;34m)\u001b[0m\u001b[0;34m\u001b[0m\u001b[0m\n\u001b[1;32m     45\u001b[0m             \u001b[0;32mif\u001b[0m \u001b[0mop\u001b[0m\u001b[0;34m.\u001b[0m\u001b[0mjobs\u001b[0m\u001b[0;34m:\u001b[0m\u001b[0;34m\u001b[0m\u001b[0m\n\u001b[0;32m---> 46\u001b[0;31m                 \u001b[0mop_data\u001b[0m\u001b[0;34m[\u001b[0m\u001b[0;34m\"time\"\u001b[0m\u001b[0;34m]\u001b[0m\u001b[0;34m.\u001b[0m\u001b[0mappend\u001b[0m\u001b[0;34m(\u001b[0m\u001b[0mop\u001b[0m\u001b[0;34m.\u001b[0m\u001b[0mjobs\u001b[0m\u001b[0;34m[\u001b[0m\u001b[0;34m-\u001b[0m\u001b[0;36m1\u001b[0m\u001b[0;34m]\u001b[0m\u001b[0;34m.\u001b[0m\u001b[0mupdated_at\u001b[0m\u001b[0;34m.\u001b[0m\u001b[0mastype\u001b[0m\u001b[0;34m(\u001b[0m\u001b[0;34m\"datetime64\"\u001b[0m\u001b[0;34m)\u001b[0m\u001b[0;34m)\u001b[0m\u001b[0;34m\u001b[0m\u001b[0m\n\u001b[0m\u001b[1;32m     47\u001b[0m                 \u001b[0mop_data\u001b[0m\u001b[0;34m[\u001b[0m\u001b[0;34m\"technician\"\u001b[0m\u001b[0;34m]\u001b[0m\u001b[0;34m.\u001b[0m\u001b[0mappend\u001b[0m\u001b[0;34m(\u001b[0m\u001b[0mop\u001b[0m\u001b[0;34m.\u001b[0m\u001b[0mjobs\u001b[0m\u001b[0;34m[\u001b[0m\u001b[0;34m-\u001b[0m\u001b[0;36m1\u001b[0m\u001b[0;34m]\u001b[0m\u001b[0;34m.\u001b[0m\u001b[0muser_id\u001b[0m\u001b[0;34m)\u001b[0m\u001b[0;34m\u001b[0m\u001b[0m\n\u001b[1;32m     48\u001b[0m             \u001b[0;32melse\u001b[0m\u001b[0;34m:\u001b[0m\u001b[0;34m\u001b[0m\u001b[0m\n",
      "\u001b[0;31mAttributeError\u001b[0m: 'str' object has no attribute 'astype'"
     ]
    }
   ],
   "source": [
    "# collect_user_ids = [s.User.find_by_name(u).id for u in COLLECT_USERS]\n",
    "\n",
    "# #fig, ax = plt.subplots(COLLECT_OPERATION_TYPES, 1)\n",
    "\n",
    "# for i, ot_name in enumerate(COLLECT_OPERATION_TYPES):\n",
    "#     op_data = {\n",
    "#         \"id\" : [],\n",
    "#         \"time\" : [],\n",
    "#         \"technician\" : [],\n",
    "#         \"status\" : []\n",
    "#     }\n",
    "    \n",
    "#     for user_id in collect_user_ids:\n",
    "#         print(ot_name)\n",
    "        \n",
    "#         ot = s.OperationType.where({\"name\": ot_name, \"deployed\": True})[0]\n",
    "\n",
    "#         ops = [op for op in ot.operations if ((op.status == 'done' or op.status == 'error') and op.user_id == user_id)]\n",
    "#         ops = ops[:20]\n",
    "\n",
    "#     #     #List used to store data for all operations of this operation type.\n",
    "#     #     op_data = []\n",
    "#     #     for op in ops:\n",
    "#     #         if s.User.find(op.plan.user_id).name in COLLECT_USERS:\n",
    "#     #             op_data.append({\n",
    "#     #                 \"ID\": op.id,\n",
    "#     #                 \"Status\": op.status,\n",
    "#     #                 \"Submitted By\": s.User.find(op.plan.user_id).name\n",
    "#     #             })\n",
    "#     #             if op.jobs:\n",
    "#     #                 op_data[-1][\"Run By\"] = s.User.find(op.jobs[-1].user_id).name\n",
    "#     #             else:\n",
    "#     #                 op_data[-1][\"Run By\"] = \"\"\n",
    "#     #             if COLLECT_OUTPUT_ITEM_DATA[ot_name]:\n",
    "#     #                 for output_name, output_data in COLLECT_OUTPUT_ITEM_DATA[ot_name].items():\n",
    "#     #                     output_item = op.output(output_name).item\n",
    "#     #                     for data_name in output_data:\n",
    "#     #                         if output_item and s.DataAssociation.where({\"parent_id\": output_item.id, \"key\": data_name}):\n",
    "#     #                             val = s.DataAssociation.where({\"parent_id\": output_item.id, \"key\": data_name})[0].value\n",
    "#     #                             op_data[-1][\"Output ({0}), {1}\".format(output_name, data_name)] = val\n",
    "#     #                         else:\n",
    "#     #                             op_data[-1][\"Output ({0}), {1}\".format(output_name, data_name)] = \"\"\n",
    "#     #     print(op_data)\n",
    "\n",
    "#         for op in ops:\n",
    "#             op_data[\"id\"].append(op.id)\n",
    "#             if op.jobs:\n",
    "#                 op_data[\"time\"].append(op.jobs[-1].updated_at)\n",
    "#                 op_data[\"technician\"].append(op.jobs[-1].user_id)\n",
    "#             else:\n",
    "#                 op_data[\"time\"].append(None)\n",
    "#                 op_data[\"technician\"].append(None)\n",
    "#             op_data[\"status\"].append(op.status)\n",
    "\n",
    "#     #df = pd.DataFrame(op_data)\n",
    "#     #print(df[\"time\"])\n",
    "#     #df[\"time\"].plot_date(kind='hist', axs=ops_over_time_axs[i])\n",
    "    \n",
    "    "
   ]
  },
  {
   "cell_type": "code",
   "execution_count": null,
   "metadata": {},
   "outputs": [],
   "source": []
  }
 ],
 "metadata": {
  "kernelspec": {
   "display_name": "Python 3",
   "language": "python",
   "name": "python3"
  },
  "language_info": {
   "codemirror_mode": {
    "name": "ipython",
    "version": 3
   },
   "file_extension": ".py",
   "mimetype": "text/x-python",
   "name": "python",
   "nbconvert_exporter": "python",
   "pygments_lexer": "ipython3",
   "version": "3.6.4"
  }
 },
 "nbformat": 4,
 "nbformat_minor": 2
}
